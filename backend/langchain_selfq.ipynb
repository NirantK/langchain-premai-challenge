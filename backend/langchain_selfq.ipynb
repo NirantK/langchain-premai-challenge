{
 "cells": [
  {
   "cell_type": "code",
   "execution_count": 22,
   "metadata": {},
   "outputs": [
    {
     "name": "stderr",
     "output_type": "stream",
     "text": [
      "/Users/aditya/anaconda3/envs/aditya/lib/python3.11/site-packages/langchain/chains/llm.py:275: UserWarning: The predict_and_parse method is deprecated, instead pass an output parser directly to LLMChain.\n",
      "  warnings.warn(\n"
     ]
    },
    {
     "name": "stdout",
     "output_type": "stream",
     "text": [
      "query='chicken leek' filter=None limit=None\n",
      "{'query': 'what recipes do you have with chicken and leek?', 'result': 'I have two recipes that include chicken and leeks: Grilled Lemon-Garlic Chicken with Leeks and Potatoes and Lemon-Rhubarb Chicken.', 'source_documents': [Document(page_content='Beef Stew with Leeks', metadata={}), Document(page_content='Creamy Leek Soup', metadata={}), Document(page_content='Grilled Lemon-Garlic Chicken with Leeks and Potatoes', metadata={}), Document(page_content='Lemon-Rhubarb Chicken', metadata={})]}\n"
     ]
    }
   ],
   "source": [
    "from langchain.llms import OpenAI\n",
    "from langchain.retrievers.self_query.base import SelfQueryRetriever\n",
    "from langchain.chains.query_constructor.base import AttributeInfo\n",
    "\n",
    "\n",
    "import os\n",
    "\n",
    "from langchain.embeddings.openai import OpenAIEmbeddings\n",
    "from langchain.docstore.document import Document\n",
    "from langchain.vectorstores import Qdrant\n",
    "from qdrant_client import QdrantClient\n",
    "from qdrant_client.http.models import Distance, VectorParams\n",
    "from langchain.chains import RetrievalQA\n",
    "from langchain.llms import OpenAI\n",
    "\n",
    "from langchain.chat_models import ChatOpenAI\n",
    "\n",
    "os.environ[\"OPENAI_API_KEY\"] = \"random-string\"\n",
    "\n",
    "\n",
    "# Using sentence transformers all-MiniLM-L6-v2\n",
    "embeddings = OpenAIEmbeddings(openai_api_base=\"http://localhost:8444/v1\")\n",
    "\n",
    "# Qdrant client\n",
    "client = QdrantClient(\"localhost\", port=6333)\n",
    "qdrant_docsearch = Qdrant(client=client, collection_name=\"recipe_title_collection\", embeddings=embeddings, content_payload_key=\"title\")\n",
    "\n",
    "# chat completion llm\n",
    "llm = ChatOpenAI(\n",
    "    openai_api_base=\"http://localhost:8111/v1\", max_tokens=128\n",
    ")\n",
    "\n",
    "\n",
    "# Using OpenAI directly\n",
    "# qa = RetrievalQA.from_chain_type(llm=OpenAI(), chain_type=\"stuff\", retriever=qdrant_docsearch.as_retriever())\n",
    "\n",
    "# Defining metadata fields\n",
    "metadata_field_info = [\n",
    "    AttributeInfo(\n",
    "        name=\"recipe\",\n",
    "        description=\"The recipe of the dish\",\n",
    "        type=\"string\",\n",
    "    ),\n",
    "    AttributeInfo(\n",
    "        name=\"image\",\n",
    "        description=\"The file name of the image\",\n",
    "        type=\"string\",\n",
    "    ),\n",
    "]\n",
    "document_content_description = \"Title of the recipe\"\n",
    "\n",
    "# Using SelfQueryRetriever\n",
    "retriever = SelfQueryRetriever.from_llm(\n",
    "    llm, qdrant_docsearch, document_content_description, metadata_field_info, verbose=True, enable_limit=True, \n",
    ")\n",
    "\n",
    "# print(retriever.get_relevant_documents(\"any recipes with chicken and leek\"))\n",
    "\n",
    "# Using Vicuna via Premai app \n",
    "qa = RetrievalQA.from_chain_type(llm=llm, chain_type=\"stuff\", retriever=retriever, return_source_documents=True)\n",
    "\n",
    "query = \"what recipes do you have with chicken and leek?\"\n",
    "result = qa({\"query\": query})\n",
    "\n",
    "print(result)"
   ]
  }
 ],
 "metadata": {
  "kernelspec": {
   "display_name": "aditya",
   "language": "python",
   "name": "python3"
  },
  "language_info": {
   "codemirror_mode": {
    "name": "ipython",
    "version": 3
   },
   "file_extension": ".py",
   "mimetype": "text/x-python",
   "name": "python",
   "nbconvert_exporter": "python",
   "pygments_lexer": "ipython3",
   "version": "3.11.4"
  },
  "orig_nbformat": 4
 },
 "nbformat": 4,
 "nbformat_minor": 2
}
