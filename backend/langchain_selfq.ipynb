{
 "cells": [
  {
   "cell_type": "code",
   "execution_count": 6,
   "metadata": {},
   "outputs": [
    {
     "name": "stdout",
     "output_type": "stream",
     "text": [
      "query='chicken leek' filter=Operation(operator=<Operator.NOT: 'not'>, arguments=[Comparison(comparator=<Comparator.CONTAIN: 'contain'>, attribute='recipe', value='oven')]) limit=None\n",
      "{'query': 'what recipes do you have with chicken and leek that does not use an oven?', 'result': 'Creamy Leek Soup and Lemon-Rhubarb Chicken can be made without using an oven.', 'source_documents': [Document(page_content='Beef Stew with Leeks', metadata={'image': 'beef-stew-with-leeks-356409.jpg', 'recipe': 'Place a large, heavy pot or Dutch oven over medium-high heat and add the blended oil. Season the beef aggressively with kosher salt and pepper. When the oil is hot, add the beef and sear on all sides, 5 to 6 minutes. Add all the chopped vegetables to the pan with the beef and sauté for 2 minutes. Add the tomato paste and stir for 1 minute. Deglaze the pan with the red wine and red wine vinegar, and let them reduce completely away.\\nAdd 3 cups of the water, 2 teaspoons salt and a generous grinding of pepper, the bay leaves, rosemary, thyme, sage, and cinnamon. Bring to a boil, then reduce the heat to low and partially cover the pan. Simmer gently for about an hour. Check and, if the mixture is dry, add another cup or two of water. Keep simmering for 15 to 40 minutes more, until the meat is tender and the braising liquid has reduced to a saucy consistency. Remove the bay leaves and cinnamon sticks. Transfer to a platter and drizzle with a little extra-virgin olive oil, and scatter with a little orange zest and the parsley.'}), Document(page_content='Creamy Leek Soup', metadata={'image': 'creamy-leek-soup-238442.jpg', 'recipe': 'Wash sliced leeks in a large bowl of cold water, agitating them, then lift out and drain well in a colander.\\nCook leeks, onion, carrot, celery, salt, and pepper in 4 tablespoons butter in a 5- to 6-quart heavy pot over moderate heat, stirring occasionally, until softened, about 8 minutes. Peel potato and cut into 1/2-inch cubes, then add to onion mixture along with wine, stock, water, and bay leaf. Bring to a boil, then reduce heat and simmer, partially covered, until vegetables are tender, about 15 minutes.\\nStir in parsley and simmer soup, uncovered, 5 minutes. Discard bay leaf and keep soup at a bare simmer.\\nMelt remaining 4 tablespoons butter in a 1-quart heavy saucepan over moderate heat, then add flour and cook roux, whisking, until golden, about 3 minutes. Remove from heat and add 2 cups simmering stock (from soup), whisking vigorously (mixture will be thick), then whisk mixture into remaining soup and return to a simmer, whisking.\\nBlend soup in 4 batches in a blender until smooth (use caution when blending hot liquids), about 1 minute per batch, transferring to a 3- to 4-quart saucepan. Reheat if necessary, then season with salt and pepper.\\nBeat cream in a bowl with an electric mixer at medium speed until it almost forms soft peaks. Serve soup topped with cream.'}), Document(page_content='Grilled Lemon-Garlic Chicken with Leeks and Potatoes', metadata={'image': 'grilled-lemon-garlic-chicken-with-leeks-and-potatoes.jpg', 'recipe': 'Prepare a grill for medium heat. Zest 2 tsp. lemon zest off lemon and transfer to a large bowl. Cut off ends, then squeeze 1 Tbsp. lemon juice into bowl with zest. Slice remaining lemon into thin rounds.\\nWhisk garlic, salt, paprika, and 3 Tbsp. oil into lemon juice and zest. Add lemon slices, chicken, leeks, bell pepper, and potatoes and toss to coat.\\nBrush wires of grill basket with oil, then add chicken mixture. Arrange in an even layer and close basket. Place grill basket on grill, cover, and cook, turning once halfway through, until chicken is fully cooked through and vegetables are lightly charred, 20–25 minutes.\\nTransfer chicken mixture to a large bowl, add parsley, and toss to combine.'}), Document(page_content='Lemon-Rhubarb Chicken', metadata={'image': 'lemon-rhubarb-chicken-237100.jpg', 'recipe': 'Heat 2 tablespoons olive oil in heavy large skillet over medium-high heat. Add 2 tablespoons chopped shallots and 2 cups rhubarb; sauté until soft, about 5 minutes. Stir in lemon juice and 1 teaspoon lemon peel. Season with salt and pepper. Cool rhubarb stuffing.\\nMelt butter in heavy large saucepan over low heat. Add 21/2 cups rhubarb, 1/4 cup shallots, and ginger; sauté until soft, about 10 minutes. Increase heat to high. Add sugar and brandy; boil 1 minute. Add broth, star anise, and bay leaf. Simmer over low heat until mixture is reduced to 2 cups, about 1 hour. Strain sauce, discarding solids in strainer. Stir 1/3 cup rhubarb stuffing into sauce. DO AHEAD Stuffing and sauce can be made 2 days ahead. Cover each separately and chill. Rewarm sauce before using.\\nPreheat oven to 425°F. Using fingertips, separate skin from flesh of chicken breasts, forming pocket. Place about 2 tablespoons rhubarb stuffing in pocket. Sprinkle chicken with salt and pepper. Heat 3 tablespoons oil in large skillet over medium-high heat. Working in 2 batches, add chicken breasts, skin side down, to skillet; cook until brown, about 7 minutes. Transfer chicken, skin side down, to roasting pan.\\nRoast chicken 10 minutes; baste with pan juices. Roast until cooked through, about 10 minutes longer. Transfer chicken to platter, sprinkle with 1 teaspoon lemon peel, and serve, passing sauce alongside.'})]}\n"
     ]
    }
   ],
   "source": [
    "from langchain.llms import OpenAI\n",
    "from langchain.retrievers.self_query.base import SelfQueryRetriever\n",
    "from langchain.chains.query_constructor.base import AttributeInfo\n",
    "\n",
    "\n",
    "import os\n",
    "\n",
    "from langchain.embeddings.openai import OpenAIEmbeddings\n",
    "from langchain.docstore.document import Document\n",
    "from langchain.vectorstores import Qdrant\n",
    "from qdrant_client import QdrantClient\n",
    "from qdrant_client.http.models import Distance, VectorParams\n",
    "from langchain.chains import RetrievalQA\n",
    "from langchain.llms import OpenAI\n",
    "\n",
    "from langchain.chat_models import ChatOpenAI\n",
    "\n",
    "os.environ[\"OPENAI_API_KEY\"] = \"random-string\"\n",
    "\n",
    "\n",
    "# Using sentence transformers all-MiniLM-L6-v2\n",
    "embeddings = OpenAIEmbeddings(openai_api_base=\"http://localhost:8444/v1\")\n",
    "\n",
    "# Qdrant client\n",
    "client = QdrantClient(\"localhost\", port=6333)\n",
    "qdrant_docsearch = Qdrant(client=client, collection_name=\"new_recipe_collection\", embeddings=embeddings)\n",
    "\n",
    "# chat completion llm\n",
    "llm = ChatOpenAI(\n",
    "    openai_api_base=\"http://localhost:8111/v1\", max_tokens=128\n",
    ")\n",
    "\n",
    "# llm = ChatOpenAI(openai_api_key=\"the_api_key\")\n",
    "\n",
    "\n",
    "# Using OpenAI directly\n",
    "# qa = RetrievalQA.from_chain_type(llm=OpenAI(), chain_type=\"stuff\", retriever=qdrant_docsearch.as_retriever())\n",
    "\n",
    "# Defining metadata fields\n",
    "metadata_field_info = [\n",
    "    AttributeInfo(\n",
    "        name=\"recipe\",\n",
    "        description=\"The recipe of the dish\",\n",
    "        type=\"string\",\n",
    "    ),\n",
    "    AttributeInfo(\n",
    "        name=\"image\",\n",
    "        description=\"The file name of the image\",\n",
    "        type=\"string\",\n",
    "    ),\n",
    "]\n",
    "document_content_description = \"Title of the recipe\"\n",
    "\n",
    "# Using SelfQueryRetriever\n",
    "retriever = SelfQueryRetriever.from_llm(\n",
    "    llm, qdrant_docsearch, document_content_description, metadata_field_info, verbose=True, enable_limit=True, \n",
    ")\n",
    "\n",
    "# print(retriever.get_relevant_documents(\"any recipes with chicken and leek\"))\n",
    "\n",
    "# Using Vicuna via Premai app \n",
    "qa = RetrievalQA.from_chain_type(llm=llm, chain_type=\"stuff\", retriever=retriever, return_source_documents=True)\n",
    "\n",
    "query = \"what recipes do you have with chicken and leek that does not use an oven?\"\n",
    "result = qa({\"query\": query})\n",
    "\n",
    "print(result)"
   ]
  }
 ],
 "metadata": {
  "kernelspec": {
   "display_name": "aditya",
   "language": "python",
   "name": "python3"
  },
  "language_info": {
   "codemirror_mode": {
    "name": "ipython",
    "version": 3
   },
   "file_extension": ".py",
   "mimetype": "text/x-python",
   "name": "python",
   "nbconvert_exporter": "python",
   "pygments_lexer": "ipython3",
   "version": "3.11.4"
  },
  "orig_nbformat": 4
 },
 "nbformat": 4,
 "nbformat_minor": 2
}
