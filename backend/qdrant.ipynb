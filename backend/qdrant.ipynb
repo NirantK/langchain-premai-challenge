{
 "cells": [
  {
   "cell_type": "code",
   "execution_count": 77,
   "metadata": {},
   "outputs": [],
   "source": [
    "import pandas as pd\n",
    "import numpy as np"
   ]
  },
  {
   "cell_type": "code",
   "execution_count": 78,
   "metadata": {},
   "outputs": [
    {
     "data": {
      "text/html": [
       "<div>\n",
       "<style scoped>\n",
       "    .dataframe tbody tr th:only-of-type {\n",
       "        vertical-align: middle;\n",
       "    }\n",
       "\n",
       "    .dataframe tbody tr th {\n",
       "        vertical-align: top;\n",
       "    }\n",
       "\n",
       "    .dataframe thead th {\n",
       "        text-align: right;\n",
       "    }\n",
       "</style>\n",
       "<table border=\"1\" class=\"dataframe\">\n",
       "  <thead>\n",
       "    <tr style=\"text-align: right;\">\n",
       "      <th></th>\n",
       "      <th>Unnamed: 0</th>\n",
       "      <th>Title</th>\n",
       "      <th>Ingredients</th>\n",
       "      <th>Instructions</th>\n",
       "      <th>Image_Name</th>\n",
       "      <th>Cleaned_Ingredients</th>\n",
       "    </tr>\n",
       "  </thead>\n",
       "  <tbody>\n",
       "    <tr>\n",
       "      <th>0</th>\n",
       "      <td>0</td>\n",
       "      <td>Miso-Butter Roast Chicken With Acorn Squash Pa...</td>\n",
       "      <td>['1 (3½–4-lb.) whole chicken', '2¾ tsp. kosher...</td>\n",
       "      <td>Pat chicken dry with paper towels, season all ...</td>\n",
       "      <td>miso-butter-roast-chicken-acorn-squash-panzanella</td>\n",
       "      <td>['1 (3½–4-lb.) whole chicken', '2¾ tsp. kosher...</td>\n",
       "    </tr>\n",
       "    <tr>\n",
       "      <th>1</th>\n",
       "      <td>1</td>\n",
       "      <td>Crispy Salt and Pepper Potatoes</td>\n",
       "      <td>['2 large egg whites', '1 pound new potatoes (...</td>\n",
       "      <td>Preheat oven to 400°F and line a rimmed baking...</td>\n",
       "      <td>crispy-salt-and-pepper-potatoes-dan-kluger</td>\n",
       "      <td>['2 large egg whites', '1 pound new potatoes (...</td>\n",
       "    </tr>\n",
       "    <tr>\n",
       "      <th>2</th>\n",
       "      <td>2</td>\n",
       "      <td>Thanksgiving Mac and Cheese</td>\n",
       "      <td>['1 cup evaporated milk', '1 cup whole milk', ...</td>\n",
       "      <td>Place a rack in middle of oven; preheat to 400...</td>\n",
       "      <td>thanksgiving-mac-and-cheese-erick-williams</td>\n",
       "      <td>['1 cup evaporated milk', '1 cup whole milk', ...</td>\n",
       "    </tr>\n",
       "    <tr>\n",
       "      <th>3</th>\n",
       "      <td>3</td>\n",
       "      <td>Italian Sausage and Bread Stuffing</td>\n",
       "      <td>['1 (¾- to 1-pound) round Italian loaf, cut in...</td>\n",
       "      <td>Preheat oven to 350°F with rack in middle. Gen...</td>\n",
       "      <td>italian-sausage-and-bread-stuffing-240559</td>\n",
       "      <td>['1 (¾- to 1-pound) round Italian loaf, cut in...</td>\n",
       "    </tr>\n",
       "    <tr>\n",
       "      <th>4</th>\n",
       "      <td>4</td>\n",
       "      <td>Newton's Law</td>\n",
       "      <td>['1 teaspoon dark brown sugar', '1 teaspoon ho...</td>\n",
       "      <td>Stir together brown sugar and hot water in a c...</td>\n",
       "      <td>newtons-law-apple-bourbon-cocktail</td>\n",
       "      <td>['1 teaspoon dark brown sugar', '1 teaspoon ho...</td>\n",
       "    </tr>\n",
       "  </tbody>\n",
       "</table>\n",
       "</div>"
      ],
      "text/plain": [
       "   Unnamed: 0                                              Title  \\\n",
       "0           0  Miso-Butter Roast Chicken With Acorn Squash Pa...   \n",
       "1           1                    Crispy Salt and Pepper Potatoes   \n",
       "2           2                        Thanksgiving Mac and Cheese   \n",
       "3           3                 Italian Sausage and Bread Stuffing   \n",
       "4           4                                       Newton's Law   \n",
       "\n",
       "                                         Ingredients  \\\n",
       "0  ['1 (3½–4-lb.) whole chicken', '2¾ tsp. kosher...   \n",
       "1  ['2 large egg whites', '1 pound new potatoes (...   \n",
       "2  ['1 cup evaporated milk', '1 cup whole milk', ...   \n",
       "3  ['1 (¾- to 1-pound) round Italian loaf, cut in...   \n",
       "4  ['1 teaspoon dark brown sugar', '1 teaspoon ho...   \n",
       "\n",
       "                                        Instructions  \\\n",
       "0  Pat chicken dry with paper towels, season all ...   \n",
       "1  Preheat oven to 400°F and line a rimmed baking...   \n",
       "2  Place a rack in middle of oven; preheat to 400...   \n",
       "3  Preheat oven to 350°F with rack in middle. Gen...   \n",
       "4  Stir together brown sugar and hot water in a c...   \n",
       "\n",
       "                                          Image_Name  \\\n",
       "0  miso-butter-roast-chicken-acorn-squash-panzanella   \n",
       "1         crispy-salt-and-pepper-potatoes-dan-kluger   \n",
       "2         thanksgiving-mac-and-cheese-erick-williams   \n",
       "3          italian-sausage-and-bread-stuffing-240559   \n",
       "4                 newtons-law-apple-bourbon-cocktail   \n",
       "\n",
       "                                 Cleaned_Ingredients  \n",
       "0  ['1 (3½–4-lb.) whole chicken', '2¾ tsp. kosher...  \n",
       "1  ['2 large egg whites', '1 pound new potatoes (...  \n",
       "2  ['1 cup evaporated milk', '1 cup whole milk', ...  \n",
       "3  ['1 (¾- to 1-pound) round Italian loaf, cut in...  \n",
       "4  ['1 teaspoon dark brown sugar', '1 teaspoon ho...  "
      ]
     },
     "execution_count": 78,
     "metadata": {},
     "output_type": "execute_result"
    }
   ],
   "source": [
    "data = pd.read_csv(\n",
    "    \"data/Food Ingredients and Recipe Dataset with Image Name Mapping.csv\"\n",
    ")\n",
    "data.head()"
   ]
  },
  {
   "cell_type": "code",
   "execution_count": 79,
   "metadata": {},
   "outputs": [
    {
     "name": "stderr",
     "output_type": "stream",
     "text": [
      "Token indices sequence length is longer than the specified maximum sequence length for this model (583 > 512). Running this sequence through the model will result in indexing errors\n"
     ]
    },
    {
     "name": "stdout",
     "output_type": "stream",
     "text": [
      "count    13501.000000\n",
      "mean       248.650174\n",
      "std        167.257353\n",
      "min          1.000000\n",
      "25%        138.000000\n",
      "50%        214.000000\n",
      "75%        320.000000\n",
      "max       3378.000000\n",
      "Name: Instructions_tokenized_length, dtype: float64\n",
      "count    13491.000000\n",
      "mean       248.345193\n",
      "std        163.037067\n",
      "min          8.000000\n",
      "25%        138.000000\n",
      "50%        214.000000\n",
      "75%        320.000000\n",
      "max       1953.000000\n",
      "Name: Instructions_tokenized_length, dtype: float64\n"
     ]
    }
   ],
   "source": [
    "# compute the length of each instruction\n",
    "data[\"Instructions_length\"] = data[\"Instructions\"].str.len()\n",
    "\n",
    "from transformers import AutoTokenizer\n",
    "\n",
    "tokenizer = AutoTokenizer.from_pretrained('sentence-transformers/all-MiniLM-L6-v2')\n",
    "\n",
    "# computer the tokenized length of each instruction\n",
    "data[\"Instructions_tokenized_length\"] = data[\"Instructions\"].apply(lambda x: len(tokenizer.tokenize(str(x))))\n",
    "\n",
    "# print the stats of the column Instructions_length\n",
    "print(data[\"Instructions_tokenized_length\"].describe())\n",
    "\n",
    "\n",
    "# drop the rows where the Instructions_tokenized_length is greater than 2000 and greater than 1\n",
    "data = data[(data[\"Instructions_tokenized_length\"] < 2000) & (data[\"Instructions_tokenized_length\"] > 1)]\n",
    "\n",
    "# print the stats of the column Instructions_length again\n",
    "print(data[\"Instructions_tokenized_length\"].describe())"
   ]
  },
  {
   "cell_type": "code",
   "execution_count": 80,
   "metadata": {},
   "outputs": [],
   "source": [
    "from qdrant_client import QdrantClient\n",
    "from qdrant_client.http.models import Distance, VectorParams\n",
    "\n",
    "client = QdrantClient(\"localhost\", port=6333)\n",
    "\n",
    "collection_name = \"recipe_title_collection\"\n",
    "vector_dimension = 384\n",
    "\n",
    "qdrant_collections = client.get_collections()\n",
    "\n",
    "# If no collections exist or if the index_name is not present in the collections, create the collection\n",
    "if len(qdrant_collections.collections) == 0 or not any(\n",
    "    collection_name in collection.name for collection in qdrant_collections.collections\n",
    "):\n",
    "    client.recreate_collection(\n",
    "        collection_name=collection_name,\n",
    "        vectors_config=VectorParams(size=vector_dimension, distance=Distance.COSINE),\n",
    "    )\n",
    "\n",
    "    collection_info = client.get_collection(collection_name=collection_name)"
   ]
  },
  {
   "cell_type": "code",
   "execution_count": 81,
   "metadata": {},
   "outputs": [],
   "source": [
    "import os\n",
    "\n",
    "from langchain.embeddings import OpenAIEmbeddings\n",
    "from langchain.text_splitter import TokenTextSplitter\n",
    "from qdrant_client.http.models import PointStruct\n",
    "import uuid\n",
    "\n",
    "# text splitter config\n",
    "text_splitter = TokenTextSplitter(chunk_size=250, chunk_overlap=25)\n",
    "\n",
    "# embedding config - using All MiniLM L6 v2\n",
    "os.environ[\"OPENAI_API_KEY\"] = \"random-string\"\n",
    "embeddings = OpenAIEmbeddings(openai_api_base=\"http://localhost:8444/v1\")\n",
    "\n",
    "\n",
    "# vector and payloads as points for qdrant\n",
    "all_points = []\n",
    "\n",
    "# iterate over the rows of the dataframe\n",
    "for index, row in data.iterrows():\n",
    "    vector_id = uuid.uuid4().hex\n",
    "    vector_embedding = embeddings.embed_query(row[\"Title\"])\n",
    "    all_points.append(PointStruct(\n",
    "                 id=vector_id, vector=vector_embedding, payload={\"title\": row[\"Title\"], \"recipe\": row[\"Instructions\"], \"image\": f\"{row['Image_Name']}.jpg\"}\n",
    "             ))"
   ]
  },
  {
   "cell_type": "code",
   "execution_count": 82,
   "metadata": {},
   "outputs": [
    {
     "name": "stdout",
     "output_type": "stream",
     "text": [
      "Upserting points from  0  to  1000\n",
      "Upserting points from  1000  to  2000\n",
      "Upserting points from  2000  to  3000\n",
      "Upserting points from  3000  to  4000\n",
      "Upserting points from  4000  to  5000\n",
      "Upserting points from  5000  to  6000\n",
      "Upserting points from  6000  to  7000\n",
      "Upserting points from  7000  to  8000\n",
      "Upserting points from  8000  to  9000\n",
      "Upserting points from  9000  to  10000\n",
      "Upserting points from  10000  to  11000\n",
      "Upserting points from  11000  to  12000\n",
      "Upserting points from  12000  to  13000\n",
      "Upserting points from  13000  to  14000\n"
     ]
    }
   ],
   "source": [
    "from qdrant_client.http.models import UpdateStatus\n",
    "\n",
    "# do a batch upsert of all the points in tranches of 1000\n",
    "for i in range(0, len(all_points), 1000):\n",
    "    print(\"Upserting points from \", i, \" to \", i + 1000)\n",
    "    operation_info = client.upsert(\n",
    "        collection_name=collection_name,\n",
    "        wait=True,\n",
    "        points=all_points[i : i + 1000],\n",
    "    )\n",
    "    assert operation_info.status == UpdateStatus.COMPLETED"
   ]
  },
  {
   "cell_type": "code",
   "execution_count": 83,
   "metadata": {},
   "outputs": [
    {
     "name": "stdout",
     "output_type": "stream",
     "text": [
      "[ScoredPoint(id='218c746e-b679-4213-9212-f914caac58e3', version=9, score=0.116038635, payload={'image': 'sage-stuffing-350603.jpg', 'recipe': 'Preheat oven to 400°F with rack in lower third. Butter a 11/2-qt shallow baking dish or gratin dish.\\nCook onion and celery in 6 tablespoon butter with 1/2 teaspoon salt and 1/4 teaspoon pepper in a large heavy skillet over medium heat, stirring occasionally, until softened, 8 to 10 minutes. Transfer to a bowl and toss with bread cubes, celery leaves, and sage, then cool 5 minutes. Whisk together stock and egg (if stock is hot, gradually whisk into egg), then toss with bread mixture until absorbed. Transfer to baking dish and dot top with remaining tablespoon butter.\\nBake, covered with foil, 30 minutes, then uncover and bake until top is golden, about 10 minutes more.', 'title': 'Sage Stuffing'}, vector=None), ScoredPoint(id='c1787c84-5d91-4bc8-a1d9-5b7086915a4b', version=10, score=0.11008572, payload={'image': 'clay-pot-miso-chicken-240262.jpg', 'recipe': 'Preheat oven to 500°F with rack in middle.\\nPat chicken dry, then roast, skin side up, in 1 layer in a 17- by 12-inch shallow baking pan until skin is golden brown, 35 to 40 minutes.\\nWhile chicken roasts, soak wood ear mushrooms in 4 cups water until softened, about 15 minutes. Drain in a sieve, then rinse well and discard any hard pieces. Drain well, squeezing out excess water.\\nTransfer roasted chicken to a bowl and pour pan juices through a fine-mesh sieve into a 1-quart glass measure. Let stand until fat rises to top, 1 to 2 minutes, then skim off and discard fat. Add enough stock to bring total to 4 cups liquid.\\nReduce oven to 300°F and move rack to lower third.\\nPeel burdock root, and, if more than 1-inch-thick, halve lengthwise. Cut crosswise into 1-inch pieces. Transfer burdock root to a bowl, then add vinegar and 2 cups water.\\nHeat oil in a 7- to 8-quart heavy pot over medium-high heat until it shimmers, then sauté onions until softened and beginning to brown. Add shiitakes, ginger, and garlic and sauté until garlic is golden, 3 to 5 minutes.\\nAdd mirin and boil, stirring and scraping up any brown bits, 1 minute. Stir in miso and soy sauce, then stir in chicken, wood ear mushrooms, burdock (drained), stock mixture, and remaining 4 cups water. Bring to a boil, skimming off any froth.\\nCover pot and braise in oven until chicken is tender, about 1 hour.\\nStir in mustard greens and continue to braise, covered, 5 minutes. Serve in shallow bowls.', 'title': 'Clay-Pot Miso Chicken'}, vector=None), ScoredPoint(id='e2507fdc-b2a8-4f2b-accb-55ea7632c385', version=9, score=0.10254609, payload={'image': 'country-harvest-stuffing-350870.jpg', 'recipe': '1. Preheat oven to 350°F. Place the bread cubes in a large bowl and toss with 2 tablespoons olive oil, thyme, salt, and pepper to taste. Spread the bread cubes on two baking sheets and bake for 15 to 20 minutes or until lightly toasted, shaking pans occasionally. Return to the bowl.\\n2. Brown the sausage in a heavy pan over medium heat. Using a slotted spoon, remove the sausage to the bowl, discarding any fat. Place the remaining 2 tablespoons olive oil in the pan and sauté the onions, celery, garlic, and sage over medium-low heat for 15 to 20 minutes or until wilted, stirring often. Combine with the bread cubes, cranberries, pecans, and prunes.\\n3. Drizzle the broth over the mixture to moisten as desired, then toss well. Season with salt and pepper. Bake, covered with aluminum foil, in an oven-to-table dish at 350°F for 30 to 45 minutes. Serve from the dish.', 'title': 'Country Harvest Stuffing'}, vector=None)]\n"
     ]
    }
   ],
   "source": [
    "# Random Vector - An array of 384 random numbers\n",
    "random_vector = np.random.rand(384)\n",
    "\n",
    "search_result = client.search(\n",
    "    collection_name=collection_name, query_vector=random_vector, limit=3\n",
    ")\n",
    "print(search_result)"
   ]
  }
 ],
 "metadata": {
  "kernelspec": {
   "display_name": "valmiki",
   "language": "python",
   "name": "python3"
  },
  "language_info": {
   "codemirror_mode": {
    "name": "ipython",
    "version": 3
   },
   "file_extension": ".py",
   "mimetype": "text/x-python",
   "name": "python",
   "nbconvert_exporter": "python",
   "pygments_lexer": "ipython3",
   "version": "3.11.4"
  },
  "orig_nbformat": 4
 },
 "nbformat": 4,
 "nbformat_minor": 2
}
