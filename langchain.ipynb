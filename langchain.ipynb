{
 "cells": [
  {
   "cell_type": "code",
   "execution_count": 4,
   "metadata": {},
   "outputs": [
    {
     "ename": "ValidationError",
     "evalue": "1 validation error for Document\npage_content\n  none is not an allowed value (type=type_error.none.not_allowed)",
     "output_type": "error",
     "traceback": [
      "\u001b[0;31m---------------------------------------------------------------------------\u001b[0m",
      "\u001b[0;31mValidationError\u001b[0m                           Traceback (most recent call last)",
      "Cell \u001b[0;32mIn[4], line 25\u001b[0m\n\u001b[1;32m     21\u001b[0m qa \u001b[39m=\u001b[39m RetrievalQA\u001b[39m.\u001b[39mfrom_chain_type(llm\u001b[39m=\u001b[39mOpenAI(openai_api_base\u001b[39m=\u001b[39m\u001b[39m\"\u001b[39m\u001b[39mhttp://localhost:8111/v1\u001b[39m\u001b[39m\"\u001b[39m), chain_type\u001b[39m=\u001b[39m\u001b[39m\"\u001b[39m\u001b[39mstuff\u001b[39m\u001b[39m\"\u001b[39m, retriever\u001b[39m=\u001b[39mqdrant\u001b[39m.\u001b[39mas_retriever())\n\u001b[1;32m     24\u001b[0m query \u001b[39m=\u001b[39m \u001b[39m\"\u001b[39m\u001b[39mAny recipe with chicken and rice\u001b[39m\u001b[39m\"\u001b[39m\n\u001b[0;32m---> 25\u001b[0m found_docs \u001b[39m=\u001b[39m qdrant\u001b[39m.\u001b[39;49msimilarity_search(query)\n",
      "File \u001b[0;32m~/anaconda3/envs/aditya/lib/python3.11/site-packages/langchain/vectorstores/qdrant.py:216\u001b[0m, in \u001b[0;36mQdrant.similarity_search\u001b[0;34m(self, query, k, filter, search_params, offset, score_threshold, consistency, **kwargs)\u001b[0m\n\u001b[1;32m    173\u001b[0m \u001b[39mdef\u001b[39;00m \u001b[39msimilarity_search\u001b[39m(\n\u001b[1;32m    174\u001b[0m     \u001b[39mself\u001b[39m,\n\u001b[1;32m    175\u001b[0m     query: \u001b[39mstr\u001b[39m,\n\u001b[0;32m   (...)\u001b[0m\n\u001b[1;32m    182\u001b[0m     \u001b[39m*\u001b[39m\u001b[39m*\u001b[39mkwargs: Any,\n\u001b[1;32m    183\u001b[0m ) \u001b[39m-\u001b[39m\u001b[39m>\u001b[39m List[Document]:\n\u001b[1;32m    184\u001b[0m \u001b[39m    \u001b[39m\u001b[39m\"\"\"Return docs most similar to query.\u001b[39;00m\n\u001b[1;32m    185\u001b[0m \n\u001b[1;32m    186\u001b[0m \u001b[39m    Args:\u001b[39;00m\n\u001b[0;32m   (...)\u001b[0m\n\u001b[1;32m    214\u001b[0m \u001b[39m        List of Documents most similar to the query.\u001b[39;00m\n\u001b[1;32m    215\u001b[0m \u001b[39m    \"\"\"\u001b[39;00m\n\u001b[0;32m--> 216\u001b[0m     results \u001b[39m=\u001b[39m \u001b[39mself\u001b[39;49m\u001b[39m.\u001b[39;49msimilarity_search_with_score(\n\u001b[1;32m    217\u001b[0m         query,\n\u001b[1;32m    218\u001b[0m         k,\n\u001b[1;32m    219\u001b[0m         \u001b[39mfilter\u001b[39;49m\u001b[39m=\u001b[39;49m\u001b[39mfilter\u001b[39;49m,\n\u001b[1;32m    220\u001b[0m         search_params\u001b[39m=\u001b[39;49msearch_params,\n\u001b[1;32m    221\u001b[0m         offset\u001b[39m=\u001b[39;49moffset,\n\u001b[1;32m    222\u001b[0m         score_threshold\u001b[39m=\u001b[39;49mscore_threshold,\n\u001b[1;32m    223\u001b[0m         consistency\u001b[39m=\u001b[39;49mconsistency,\n\u001b[1;32m    224\u001b[0m         \u001b[39m*\u001b[39;49m\u001b[39m*\u001b[39;49mkwargs,\n\u001b[1;32m    225\u001b[0m     )\n\u001b[1;32m    226\u001b[0m     \u001b[39mreturn\u001b[39;00m \u001b[39mlist\u001b[39m(\u001b[39mmap\u001b[39m(itemgetter(\u001b[39m0\u001b[39m), results))\n",
      "File \u001b[0;32m~/anaconda3/envs/aditya/lib/python3.11/site-packages/langchain/vectorstores/qdrant.py:273\u001b[0m, in \u001b[0;36mQdrant.similarity_search_with_score\u001b[0;34m(self, query, k, filter, search_params, offset, score_threshold, consistency, **kwargs)\u001b[0m\n\u001b[1;32m    228\u001b[0m \u001b[39mdef\u001b[39;00m \u001b[39msimilarity_search_with_score\u001b[39m(\n\u001b[1;32m    229\u001b[0m     \u001b[39mself\u001b[39m,\n\u001b[1;32m    230\u001b[0m     query: \u001b[39mstr\u001b[39m,\n\u001b[0;32m   (...)\u001b[0m\n\u001b[1;32m    237\u001b[0m     \u001b[39m*\u001b[39m\u001b[39m*\u001b[39mkwargs: Any,\n\u001b[1;32m    238\u001b[0m ) \u001b[39m-\u001b[39m\u001b[39m>\u001b[39m List[Tuple[Document, \u001b[39mfloat\u001b[39m]]:\n\u001b[1;32m    239\u001b[0m \u001b[39m    \u001b[39m\u001b[39m\"\"\"Return docs most similar to query.\u001b[39;00m\n\u001b[1;32m    240\u001b[0m \n\u001b[1;32m    241\u001b[0m \u001b[39m    Args:\u001b[39;00m\n\u001b[0;32m   (...)\u001b[0m\n\u001b[1;32m    271\u001b[0m \u001b[39m        Lower score represents more similarity.\u001b[39;00m\n\u001b[1;32m    272\u001b[0m \u001b[39m    \"\"\"\u001b[39;00m\n\u001b[0;32m--> 273\u001b[0m     \u001b[39mreturn\u001b[39;00m \u001b[39mself\u001b[39;49m\u001b[39m.\u001b[39;49msimilarity_search_with_score_by_vector(\n\u001b[1;32m    274\u001b[0m         \u001b[39mself\u001b[39;49m\u001b[39m.\u001b[39;49m_embed_query(query),\n\u001b[1;32m    275\u001b[0m         k,\n\u001b[1;32m    276\u001b[0m         \u001b[39mfilter\u001b[39;49m\u001b[39m=\u001b[39;49m\u001b[39mfilter\u001b[39;49m,\n\u001b[1;32m    277\u001b[0m         search_params\u001b[39m=\u001b[39;49msearch_params,\n\u001b[1;32m    278\u001b[0m         offset\u001b[39m=\u001b[39;49moffset,\n\u001b[1;32m    279\u001b[0m         score_threshold\u001b[39m=\u001b[39;49mscore_threshold,\n\u001b[1;32m    280\u001b[0m         consistency\u001b[39m=\u001b[39;49mconsistency,\n\u001b[1;32m    281\u001b[0m         \u001b[39m*\u001b[39;49m\u001b[39m*\u001b[39;49mkwargs,\n\u001b[1;32m    282\u001b[0m     )\n",
      "File \u001b[0;32m~/anaconda3/envs/aditya/lib/python3.11/site-packages/langchain/vectorstores/qdrant.py:412\u001b[0m, in \u001b[0;36mQdrant.similarity_search_with_score_by_vector\u001b[0;34m(self, embedding, k, filter, search_params, offset, score_threshold, consistency, **kwargs)\u001b[0m\n\u001b[1;32m    397\u001b[0m     query_vector \u001b[39m=\u001b[39m (\u001b[39mself\u001b[39m\u001b[39m.\u001b[39mvector_name, embedding)  \u001b[39m# type: ignore[assignment]\u001b[39;00m\n\u001b[1;32m    399\u001b[0m results \u001b[39m=\u001b[39m \u001b[39mself\u001b[39m\u001b[39m.\u001b[39mclient\u001b[39m.\u001b[39msearch(\n\u001b[1;32m    400\u001b[0m     collection_name\u001b[39m=\u001b[39m\u001b[39mself\u001b[39m\u001b[39m.\u001b[39mcollection_name,\n\u001b[1;32m    401\u001b[0m     query_vector\u001b[39m=\u001b[39mquery_vector,\n\u001b[0;32m   (...)\u001b[0m\n\u001b[1;32m    410\u001b[0m     \u001b[39m*\u001b[39m\u001b[39m*\u001b[39mkwargs,\n\u001b[1;32m    411\u001b[0m )\n\u001b[0;32m--> 412\u001b[0m \u001b[39mreturn\u001b[39;00m [\n\u001b[1;32m    413\u001b[0m     (\n\u001b[1;32m    414\u001b[0m         \u001b[39mself\u001b[39;49m\u001b[39m.\u001b[39;49m_document_from_scored_point(\n\u001b[1;32m    415\u001b[0m             result, \u001b[39mself\u001b[39;49m\u001b[39m.\u001b[39;49mcontent_payload_key, \u001b[39mself\u001b[39;49m\u001b[39m.\u001b[39;49mmetadata_payload_key\n\u001b[1;32m    416\u001b[0m         ),\n\u001b[1;32m    417\u001b[0m         result\u001b[39m.\u001b[39;49mscore,\n\u001b[1;32m    418\u001b[0m     )\n\u001b[1;32m    419\u001b[0m     \u001b[39mfor\u001b[39;49;00m result \u001b[39min\u001b[39;49;00m results\n\u001b[1;32m    420\u001b[0m ]\n",
      "File \u001b[0;32m~/anaconda3/envs/aditya/lib/python3.11/site-packages/langchain/vectorstores/qdrant.py:414\u001b[0m, in \u001b[0;36m<listcomp>\u001b[0;34m(.0)\u001b[0m\n\u001b[1;32m    397\u001b[0m     query_vector \u001b[39m=\u001b[39m (\u001b[39mself\u001b[39m\u001b[39m.\u001b[39mvector_name, embedding)  \u001b[39m# type: ignore[assignment]\u001b[39;00m\n\u001b[1;32m    399\u001b[0m results \u001b[39m=\u001b[39m \u001b[39mself\u001b[39m\u001b[39m.\u001b[39mclient\u001b[39m.\u001b[39msearch(\n\u001b[1;32m    400\u001b[0m     collection_name\u001b[39m=\u001b[39m\u001b[39mself\u001b[39m\u001b[39m.\u001b[39mcollection_name,\n\u001b[1;32m    401\u001b[0m     query_vector\u001b[39m=\u001b[39mquery_vector,\n\u001b[0;32m   (...)\u001b[0m\n\u001b[1;32m    410\u001b[0m     \u001b[39m*\u001b[39m\u001b[39m*\u001b[39mkwargs,\n\u001b[1;32m    411\u001b[0m )\n\u001b[1;32m    412\u001b[0m \u001b[39mreturn\u001b[39;00m [\n\u001b[1;32m    413\u001b[0m     (\n\u001b[0;32m--> 414\u001b[0m         \u001b[39mself\u001b[39;49m\u001b[39m.\u001b[39;49m_document_from_scored_point(\n\u001b[1;32m    415\u001b[0m             result, \u001b[39mself\u001b[39;49m\u001b[39m.\u001b[39;49mcontent_payload_key, \u001b[39mself\u001b[39;49m\u001b[39m.\u001b[39;49mmetadata_payload_key\n\u001b[1;32m    416\u001b[0m         ),\n\u001b[1;32m    417\u001b[0m         result\u001b[39m.\u001b[39mscore,\n\u001b[1;32m    418\u001b[0m     )\n\u001b[1;32m    419\u001b[0m     \u001b[39mfor\u001b[39;00m result \u001b[39min\u001b[39;00m results\n\u001b[1;32m    420\u001b[0m ]\n",
      "File \u001b[0;32m~/anaconda3/envs/aditya/lib/python3.11/site-packages/langchain/vectorstores/qdrant.py:761\u001b[0m, in \u001b[0;36mQdrant._document_from_scored_point\u001b[0;34m(cls, scored_point, content_payload_key, metadata_payload_key)\u001b[0m\n\u001b[1;32m    754\u001b[0m \u001b[39m@classmethod\u001b[39m\n\u001b[1;32m    755\u001b[0m \u001b[39mdef\u001b[39;00m \u001b[39m_document_from_scored_point\u001b[39m(\n\u001b[1;32m    756\u001b[0m     \u001b[39mcls\u001b[39m,\n\u001b[0;32m   (...)\u001b[0m\n\u001b[1;32m    759\u001b[0m     metadata_payload_key: \u001b[39mstr\u001b[39m,\n\u001b[1;32m    760\u001b[0m ) \u001b[39m-\u001b[39m\u001b[39m>\u001b[39m Document:\n\u001b[0;32m--> 761\u001b[0m     \u001b[39mreturn\u001b[39;00m Document(\n\u001b[1;32m    762\u001b[0m         page_content\u001b[39m=\u001b[39;49mscored_point\u001b[39m.\u001b[39;49mpayload\u001b[39m.\u001b[39;49mget(content_payload_key),\n\u001b[1;32m    763\u001b[0m         metadata\u001b[39m=\u001b[39;49mscored_point\u001b[39m.\u001b[39;49mpayload\u001b[39m.\u001b[39;49mget(metadata_payload_key) \u001b[39mor\u001b[39;49;00m {},\n\u001b[1;32m    764\u001b[0m     )\n",
      "File \u001b[0;32m~/anaconda3/envs/aditya/lib/python3.11/site-packages/langchain/load/serializable.py:74\u001b[0m, in \u001b[0;36mSerializable.__init__\u001b[0;34m(self, **kwargs)\u001b[0m\n\u001b[1;32m     73\u001b[0m \u001b[39mdef\u001b[39;00m \u001b[39m__init__\u001b[39m(\u001b[39mself\u001b[39m, \u001b[39m*\u001b[39m\u001b[39m*\u001b[39mkwargs: Any) \u001b[39m-\u001b[39m\u001b[39m>\u001b[39m \u001b[39mNone\u001b[39;00m:\n\u001b[0;32m---> 74\u001b[0m     \u001b[39msuper\u001b[39;49m()\u001b[39m.\u001b[39;49m\u001b[39m__init__\u001b[39;49m(\u001b[39m*\u001b[39;49m\u001b[39m*\u001b[39;49mkwargs)\n\u001b[1;32m     75\u001b[0m     \u001b[39mself\u001b[39m\u001b[39m.\u001b[39m_lc_kwargs \u001b[39m=\u001b[39m kwargs\n",
      "File \u001b[0;32m~/anaconda3/envs/aditya/lib/python3.11/site-packages/pydantic/main.py:341\u001b[0m, in \u001b[0;36mpydantic.main.BaseModel.__init__\u001b[0;34m()\u001b[0m\n",
      "\u001b[0;31mValidationError\u001b[0m: 1 validation error for Document\npage_content\n  none is not an allowed value (type=type_error.none.not_allowed)"
     ]
    }
   ],
   "source": [
    "import os\n",
    "\n",
    "from langchain.embeddings.openai import OpenAIEmbeddings\n",
    "from langchain.docstore.document import Document\n",
    "from langchain.vectorstores import Qdrant\n",
    "from qdrant_client import QdrantClient\n",
    "from qdrant_client.http.models import Distance, VectorParams\n",
    "from langchain.chains import RetrievalQA\n",
    "from langchain.llms import OpenAI\n",
    "\n",
    "os.environ[\"OPENAI_API_KEY\"] = \"random-string\"\n",
    "\n",
    "\n",
    "# Using sentence transformers all-MiniLM-L6-v2\n",
    "embeddings = OpenAIEmbeddings(openai_api_base=\"http://localhost:8444/v1\")\n",
    "\n",
    "# Qdrant client\n",
    "client = QdrantClient(\"localhost\", port=6333)\n",
    "qdrant = Qdrant(client=client, collection_name=\"recipe_title_collection\", embeddings=embeddings)\n",
    "\n",
    "qa = RetrievalQA.from_chain_type(llm=OpenAI(openai_api_base=\"http://localhost:8111/v1\"), chain_type=\"stuff\", retriever=qdrant.as_retriever())\n",
    "\n",
    "\n",
    "query = \"Any recipe with chicken and rice?\"\n",
    "found_docs = qdrant.similarity_search(query)\n"
   ]
  }
 ],
 "metadata": {
  "kernelspec": {
   "display_name": "aditya",
   "language": "python",
   "name": "python3"
  },
  "language_info": {
   "codemirror_mode": {
    "name": "ipython",
    "version": 3
   },
   "file_extension": ".py",
   "mimetype": "text/x-python",
   "name": "python",
   "nbconvert_exporter": "python",
   "pygments_lexer": "ipython3",
   "version": "3.11.4"
  },
  "orig_nbformat": 4
 },
 "nbformat": 4,
 "nbformat_minor": 2
}
